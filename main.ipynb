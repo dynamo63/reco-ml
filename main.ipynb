{
 "metadata": {
  "language_info": {
   "codemirror_mode": {
    "name": "ipython",
    "version": 3
   },
   "file_extension": ".py",
   "mimetype": "text/x-python",
   "name": "python",
   "nbconvert_exporter": "python",
   "pygments_lexer": "ipython3",
   "version": "3.7.10-final"
  },
  "orig_nbformat": 2,
  "kernelspec": {
   "name": "python3",
   "display_name": "Python 3.7.10 64-bit ('env': venv)",
   "metadata": {
    "interpreter": {
     "hash": "5cd50558dd2d9cee7e5e9f46c5dd201ff78a26172bfc4c42ca76c6805a0625f6"
    }
   }
  }
 },
 "nbformat": 4,
 "nbformat_minor": 2,
 "cells": [
  {
   "cell_type": "code",
   "execution_count": 24,
   "metadata": {},
   "outputs": [],
   "source": [
    "# Importation\n",
    "import pandas as pd\n",
    "import numpy as np\n",
    "import matplotlib.pyplot as plt"
   ]
  },
  {
   "cell_type": "code",
   "execution_count": 25,
   "metadata": {},
   "outputs": [
    {
     "output_type": "execute_result",
     "data": {
      "text/plain": [
       "(       Nombre de bits  Nombre de bits à 1  Rang dans la sous famille  \\\n",
       " 0                   5                   0                          1   \n",
       " 1                   6                   3                          1   \n",
       " 2                  11                   0                          1   \n",
       " 3                  10                   9                          1   \n",
       " 4                   9                   8                          1   \n",
       " ...               ...                 ...                        ...   \n",
       " 79995              13                  13                          1   \n",
       " 79996               6                   2                          7   \n",
       " 79997               1                   0                          1   \n",
       " 79998               7                   0                          1   \n",
       " 79999              11                   7                        104   \n",
       " \n",
       "        Position du bit  \n",
       " 0                    5  \n",
       " 1                    2  \n",
       " 2                   10  \n",
       " 3                    5  \n",
       " 4                    8  \n",
       " ...                ...  \n",
       " 79995                3  \n",
       " 79996                5  \n",
       " 79997                1  \n",
       " 79998                1  \n",
       " 79999                6  \n",
       " \n",
       " [80000 rows x 4 columns],\n",
       " 0        0\n",
       " 1        0\n",
       " 2        0\n",
       " 3        1\n",
       " 4        1\n",
       "         ..\n",
       " 79995    1\n",
       " 79996    0\n",
       " 79997    0\n",
       " 79998    0\n",
       " 79999    0\n",
       " Name: Valeur, Length: 80000, dtype: int64)"
      ]
     },
     "metadata": {},
     "execution_count": 25
    }
   ],
   "source": [
    "# Define data training and data test\n",
    "data = pd.read_csv('./dataset.csv')\n",
    "x_train = data.drop(['Valeur'], axis=1)[:80000]\n",
    "y_train = data['Valeur'][:80000]\n",
    "x_train, y_train"
   ]
  },
  {
   "cell_type": "code",
   "execution_count": 23,
   "metadata": {},
   "outputs": [
    {
     "output_type": "execute_result",
     "data": {
      "text/plain": [
       "(       Nombre de bits  Nombre de bits à 1  Rang dans la sous famille  \\\n",
       " 80000               2                   0                          1   \n",
       " 80001              16                  11                       2122   \n",
       " 80002              10                   1                          3   \n",
       " 80003               4                   0                          1   \n",
       " 80004               4                   4                          1   \n",
       " ...               ...                 ...                        ...   \n",
       " 99995               1                   1                          1   \n",
       " 99996               3                   2                          2   \n",
       " 99997               1                   1                          1   \n",
       " 99998               2                   1                          1   \n",
       " 99999              10                   6                        119   \n",
       " \n",
       "        Position du bit  \n",
       " 80000                2  \n",
       " 80001                6  \n",
       " 80002                6  \n",
       " 80003                3  \n",
       " 80004                4  \n",
       " ...                ...  \n",
       " 99995                1  \n",
       " 99996                2  \n",
       " 99997                1  \n",
       " 99998                1  \n",
       " 99999               10  \n",
       " \n",
       " [20000 rows x 4 columns],\n",
       " 80000    0\n",
       " 80001    0\n",
       " 80002    0\n",
       " 80003    0\n",
       " 80004    1\n",
       "         ..\n",
       " 99995    1\n",
       " 99996    0\n",
       " 99997    1\n",
       " 99998    0\n",
       " 99999    0\n",
       " Name: Valeur, Length: 20000, dtype: int64)"
      ]
     },
     "metadata": {},
     "execution_count": 23
    }
   ],
   "source": [
    "# Define data for testing\n",
    "x_test = data.drop(['Valeur'], axis=1)[-20000:]\n",
    "y_test = data['Valeur'][-20000:]\n",
    "x_test, y_test"
   ]
  },
  {
   "cell_type": "code",
   "execution_count": 26,
   "metadata": {},
   "outputs": [
    {
     "output_type": "execute_result",
     "data": {
      "text/plain": [
       "0.86475"
      ]
     },
     "metadata": {},
     "execution_count": 26
    }
   ],
   "source": [
    "# Create the modele\n",
    "from sklearn.neighbors import KNeighborsClassifier\n",
    "model = KNeighborsClassifier()\n",
    "model.fit(x_train, y_train)\n",
    "model.score(x_test, y_test)"
   ]
  },
  {
   "cell_type": "code",
   "execution_count": 27,
   "metadata": {},
   "outputs": [
    {
     "output_type": "execute_result",
     "data": {
      "text/plain": [
       "0.86475"
      ]
     },
     "metadata": {},
     "execution_count": 27
    }
   ],
   "source": [
    "# Show predictions\n",
    "from sklearn.metrics import accuracy_score\n",
    "predictions = model.predict(x_test)\n",
    "score = accuracy_score(y_test, predictions)\n",
    "score"
   ]
  },
  {
   "cell_type": "code",
   "execution_count": 40,
   "metadata": {},
   "outputs": [
    {
     "output_type": "stream",
     "name": "stdout",
     "text": [
      "[0]\n[1]\n"
     ]
    }
   ],
   "source": [
    "# Testing Custom\n",
    "print(model.predict(np.array([5, 0, 1, 5]).reshape(-1, 4)))\n",
    "print(model.predict(np.array([13, 11, 31, 5]).reshape(-1, 4)))"
   ]
  },
  {
   "cell_type": "code",
   "execution_count": 39,
   "metadata": {},
   "outputs": [
    {
     "output_type": "execute_result",
     "data": {
      "text/plain": [
       "['reco.joblib']"
      ]
     },
     "metadata": {},
     "execution_count": 39
    }
   ],
   "source": [
    "# Save model\n",
    "import joblib\n",
    "joblib.dump(model, 'reco.joblib')"
   ]
  },
  {
   "cell_type": "code",
   "execution_count": null,
   "metadata": {},
   "outputs": [],
   "source": []
  }
 ]
}